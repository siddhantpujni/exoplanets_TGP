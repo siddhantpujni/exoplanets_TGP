{
 "cells": [
  {
   "cell_type": "markdown",
   "metadata": {},
   "source": [
    "# Light Curve Analysis\n",
    "\n",
    "This notebook demonstrates:\n",
    "1. Source detection and photometry\n",
    "2. Differential photometry for exoplanet transits\n",
    "3. Light curve visualization and analysis\n",
    "\n",
    "## Prerequisites\n",
    "- Reduced FITS files in `../data/reduced/`\n",
    "- Completed data reduction (notebook 01)"
   ]
  },
  {
   "cell_type": "code",
   "execution_count": null,
   "metadata": {},
   "outputs": [],
   "source": [
    "import sys\n",
    "sys.path.append('..')\n",
    "\n",
    "import numpy as np\n",
    "import matplotlib.pyplot as plt\n",
    "import pandas as pd\n",
    "from pathlib import Path\n",
    "\n",
    "from src.data_reduction import load_fits\n",
    "from src.photometry import (\n",
    "    find_sources,\n",
    "    measure_aperture_photometry,\n",
    "    extract_light_curve\n",
    ")\n",
    "from src.utils import list_fits_files, plot_image, plot_light_curve\n",
    "\n",
    "%matplotlib inline\n",
    "plt.rcParams['figure.figsize'] = (12, 8)"
   ]
  },
  {
   "cell_type": "markdown",
   "metadata": {},
   "source": [
    "## 1. Load Reduced Images"
   ]
  },
  {
   "cell_type": "code",
   "execution_count": null,
   "metadata": {},
   "outputs": [],
   "source": [
    "# Directory paths\n",
    "reduced_dir = Path('../data/reduced')\n",
    "\n",
    "# List reduced FITS files\n",
    "reduced_files = sorted(list_fits_files(reduced_dir))\n",
    "print(f\"Found {len(reduced_files)} reduced frames\")\n",
    "\n",
    "if len(reduced_files) == 0:\n",
    "    print(\"\\n⚠ No reduced frames found!\")\n",
    "    print(\"Please run notebook 01_data_reduction.ipynb first.\")\n",
    "else:\n",
    "    # Load first frame for source detection\n",
    "    data, header = load_fits(reduced_files[0])\n",
    "    print(f\"\\nImage shape: {data.shape}\")\n",
    "    print(f\"Data range: [{np.min(data):.1f}, {np.max(data):.1f}]\")"
   ]
  },
  {
   "cell_type": "markdown",
   "metadata": {},
   "source": [
    "## 2. Source Detection\n",
    "\n",
    "Detect stars in the field using DAOStarFinder."
   ]
  },
  {
   "cell_type": "code",
   "execution_count": null,
   "metadata": {},
   "outputs": [],
   "source": [
    "if len(reduced_files) > 0:\n",
    "    # Detect sources\n",
    "    sources = find_sources(data, fwhm=5.0, threshold=5.0)\n",
    "    \n",
    "    print(f\"Detected {len(sources)} sources\")\n",
    "    print(\"\\nBrightest sources:\")\n",
    "    sources_sorted = sources.copy()\n",
    "    sources_sorted.sort('flux')\n",
    "    sources_sorted.reverse()\n",
    "    print(sources_sorted[:10]['id', 'xcentroid', 'ycentroid', 'flux'])\n",
    "    \n",
    "    # Display image with detected sources\n",
    "    fig, ax = plt.subplots(figsize=(12, 10))\n",
    "    plot_image(data, title='Detected Sources', ax=ax)\n",
    "    ax.scatter(sources['xcentroid'], sources['ycentroid'], \n",
    "              s=100, facecolors='none', edgecolors='r', linewidths=1.5)\n",
    "    \n",
    "    # Label brightest sources\n",
    "    for i, source in enumerate(sources_sorted[:5]):\n",
    "        ax.text(source['xcentroid']+10, source['ycentroid'], \n",
    "               f\"{i+1}\", color='red', fontsize=12, weight='bold')\n",
    "    \n",
    "    plt.tight_layout()\n",
    "    plt.show()"
   ]
  },
  {
   "cell_type": "markdown",
   "metadata": {},
   "source": [
    "## 3. Select Target and Comparison Stars\n",
    "\n",
    "**Instructions:**\n",
    "1. Identify your target star from the plot above\n",
    "2. Select stable comparison stars (bright, unsaturated)\n",
    "3. Enter their positions below"
   ]
  },
  {
   "cell_type": "code",
   "execution_count": null,
   "metadata": {},
   "outputs": [],
   "source": [
    "# Example: manually specify star positions\n",
    "# Replace these with actual coordinates from your images\n",
    "\n",
    "if len(reduced_files) > 0 and len(sources) > 0:\n",
    "    # Use brightest source as example target\n",
    "    target_position = (sources_sorted[0]['xcentroid'], \n",
    "                      sources_sorted[0]['ycentroid'])\n",
    "    \n",
    "    # Use next 3 bright sources as comparisons\n",
    "    comparison_positions = [\n",
    "        (sources_sorted[1]['xcentroid'], sources_sorted[1]['ycentroid']),\n",
    "        (sources_sorted[2]['xcentroid'], sources_sorted[2]['ycentroid']),\n",
    "        (sources_sorted[3]['xcentroid'], sources_sorted[3]['ycentroid'])\n",
    "    ]\n",
    "    \n",
    "    print(f\"Target position: ({target_position[0]:.1f}, {target_position[1]:.1f})\")\n",
    "    print(f\"\\nComparison stars:\")\n",
    "    for i, pos in enumerate(comparison_positions):\n",
    "        print(f\"  {i+1}: ({pos[0]:.1f}, {pos[1]:.1f})\")"
   ]
  },
  {
   "cell_type": "markdown",
   "metadata": {},
   "source": [
    "## 4. Aperture Photometry\n",
    "\n",
    "Measure flux in apertures around stars."
   ]
  },
  {
   "cell_type": "code",
   "execution_count": null,
   "metadata": {},
   "outputs": [],
   "source": [
    "if len(reduced_files) > 0 and len(sources) > 0:\n",
    "    # Perform photometry on first frame\n",
    "    aperture_radius = 10  # pixels, adjust based on FWHM\n",
    "    \n",
    "    phot_table = measure_aperture_photometry(\n",
    "        data, \n",
    "        [target_position] + comparison_positions,\n",
    "        aperture_radius=aperture_radius\n",
    "    )\n",
    "    \n",
    "    print(\"Photometry Results:\")\n",
    "    print(phot_table['xcenter', 'ycenter', 'aper_sum_bkgsub', 'mag_inst'])\n",
    "    \n",
    "    # Visualize apertures\n",
    "    from photutils.aperture import CircularAperture\n",
    "    \n",
    "    fig, ax = plt.subplots(figsize=(12, 10))\n",
    "    plot_image(data, title='Photometry Apertures', ax=ax)\n",
    "    \n",
    "    # Target in red\n",
    "    target_ap = CircularAperture([target_position], r=aperture_radius)\n",
    "    target_ap.plot(ax=ax, color='red', lw=2, label='Target')\n",
    "    \n",
    "    # Comparisons in cyan\n",
    "    comp_ap = CircularAperture(comparison_positions, r=aperture_radius)\n",
    "    comp_ap.plot(ax=ax, color='cyan', lw=2, label='Comparison')\n",
    "    \n",
    "    ax.legend(loc='upper right')\n",
    "    plt.tight_layout()\n",
    "    plt.show()"
   ]
  },
  {
   "cell_type": "markdown",
   "metadata": {},
   "source": [
    "## 5. Extract Light Curve\n",
    "\n",
    "Perform differential photometry on all frames."
   ]
  },
  {
   "cell_type": "code",
   "execution_count": null,
   "metadata": {},
   "outputs": [],
   "source": [
    "if len(reduced_files) > 0 and len(sources) > 0:\n",
    "    print(\"Extracting light curve...\")\n",
    "    \n",
    "    lightcurve = extract_light_curve(\n",
    "        reduced_files,\n",
    "        target_position=target_position,\n",
    "        comparison_positions=comparison_positions,\n",
    "        aperture_radius=aperture_radius\n",
    "    )\n",
    "    \n",
    "    print(f\"\\nLight curve with {len(lightcurve)} points\")\n",
    "    print(lightcurve.head())\n",
    "    \n",
    "    # Save to CSV\n",
    "    output_file = '../data/lightcurve.csv'\n",
    "    lightcurve.to_csv(output_file, index=False)\n",
    "    print(f\"\\nSaved to {output_file}\")"
   ]
  },
  {
   "cell_type": "markdown",
   "metadata": {},
   "source": [
    "## 6. Plot Light Curve"
   ]
  },
  {
   "cell_type": "code",
   "execution_count": null,
   "metadata": {},
   "outputs": [],
   "source": [
    "if len(reduced_files) > 0 and len(sources) > 0:\n",
    "    # Normalize time to hours from first observation\n",
    "    time_hours = (lightcurve['time'] - lightcurve['time'].iloc[0]) * 24\n",
    "    \n",
    "    # Plot relative flux\n",
    "    fig, ax = plot_light_curve(\n",
    "        time_hours,\n",
    "        lightcurve['relative_flux'],\n",
    "        title='Differential Light Curve',\n",
    "        xlabel='Time (hours)',\n",
    "        ylabel='Relative Flux'\n",
    "    )\n",
    "    \n",
    "    # Add reference line at 1.0\n",
    "    ax.axhline(y=1.0, color='r', linestyle='--', alpha=0.5, label='Baseline')\n",
    "    ax.legend()\n",
    "    \n",
    "    plt.savefig('../data/lightcurve.png', dpi=150, bbox_inches='tight')\n",
    "    print(\"Saved plot to ../data/lightcurve.png\")\n",
    "    plt.show()\n",
    "    \n",
    "    # Statistics\n",
    "    print(f\"\\nLight curve statistics:\")\n",
    "    print(f\"  Mean flux: {lightcurve['relative_flux'].mean():.6f}\")\n",
    "    print(f\"  Std dev: {lightcurve['relative_flux'].std():.6f}\")\n",
    "    print(f\"  RMS: {np.sqrt(np.mean(lightcurve['relative_flux']**2)):.6f}\")\n",
    "    print(f\"  Min flux: {lightcurve['relative_flux'].min():.6f}\")\n",
    "    print(f\"  Max flux: {lightcurve['relative_flux'].max():.6f}\")"
   ]
  },
  {
   "cell_type": "markdown",
   "metadata": {},
   "source": [
    "## 7. Transit Detection (Optional)\n",
    "\n",
    "Look for periodic dips in the light curve that might indicate a transit."
   ]
  },
  {
   "cell_type": "code",
   "execution_count": null,
   "metadata": {},
   "outputs": [],
   "source": [
    "if len(reduced_files) > 0 and len(sources) > 0:\n",
    "    # Simple transit detection: look for significant dips\n",
    "    median_flux = lightcurve['relative_flux'].median()\n",
    "    std_flux = lightcurve['relative_flux'].std()\n",
    "    \n",
    "    # Points more than 3-sigma below median\n",
    "    threshold = median_flux - 3 * std_flux\n",
    "    transit_candidates = lightcurve[lightcurve['relative_flux'] < threshold]\n",
    "    \n",
    "    if len(transit_candidates) > 0:\n",
    "        print(f\"Found {len(transit_candidates)} potential transit points:\")\n",
    "        print(transit_candidates[['time', 'relative_flux']])\n",
    "    else:\n",
    "        print(\"No significant transit events detected.\")\n",
    "        print(f\"(Threshold: {threshold:.6f}, Min observed: {lightcurve['relative_flux'].min():.6f})\")"
   ]
  },
  {
   "cell_type": "markdown",
   "metadata": {},
   "source": [
    "## Summary\n",
    "\n",
    "✓ Sources detected and photometry performed\n",
    "✓ Light curve extracted and saved\n",
    "✓ Differential photometry completed\n",
    "\n",
    "**Next Steps:**\n",
    "- Analyze light curve for transit features\n",
    "- Fit transit model if transit detected\n",
    "- Proceed to `03_standard_stars.ipynb` for calibration\n",
    "- Export results for manuscript"
   ]
  }
 ],
 "metadata": {
  "kernelspec": {
   "display_name": "Python 3",
   "language": "python",
   "name": "python3"
  },
  "language_info": {
   "codemirror_mode": {
    "name": "ipython",
    "version": 3
   },
   "file_extension": ".py",
   "mimetype": "text/x-python",
   "name": "python",
   "nbconvert_exporter": "python",
   "pygments_lexer": "ipython3",
   "version": "3.8.0"
  }
 },
 "nbformat": 4,
 "nbformat_minor": 4
}
