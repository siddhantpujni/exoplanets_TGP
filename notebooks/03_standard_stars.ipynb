{
 "cells": [
  {
   "cell_type": "markdown",
   "metadata": {},
   "source": [
    "# Standard Star Photometry and Color Analysis\n",
    "\n",
    "This notebook demonstrates:\n",
    "1. Photometric calibration using standard stars\n",
    "2. Color index calculations (e.g., B-V, V-R)\n",
    "3. Zero point determination\n",
    "4. Transformation to standard system\n",
    "\n",
    "## Prerequisites\n",
    "- Observations of standard stars in multiple filters\n",
    "- Known magnitudes from catalog (e.g., Landolt standards)"
   ]
  },
  {
   "cell_type": "code",
   "execution_count": null,
   "metadata": {},
   "outputs": [],
   "source": [
    "import sys\n",
    "sys.path.append('..')\n",
    "\n",
    "import numpy as np\n",
    "import matplotlib.pyplot as plt\n",
    "import pandas as pd\n",
    "from pathlib import Path\n",
    "\n",
    "from src.data_reduction import load_fits\n",
    "from src.photometry import (\n",
    "    find_sources,\n",
    "    measure_aperture_photometry,\n",
    "    calculate_color_index\n",
    ")\n",
    "from src.utils import list_fits_files, plot_image\n",
    "\n",
    "%matplotlib inline\n",
    "plt.rcParams['figure.figsize'] = (12, 8)"
   ]
  },
  {
   "cell_type": "markdown",
   "metadata": {},
   "source": [
    "## 1. Load Standard Star Observations\n",
    "\n",
    "Organize your standard star observations by filter."
   ]
  },
  {
   "cell_type": "code",
   "execution_count": null,
   "metadata": {},
   "outputs": [],
   "source": [
    "# Define filter names and corresponding file patterns\n",
    "filters = ['B', 'V', 'R']  # Adjust for your observations\n",
    "\n",
    "# Directory containing standard star observations\n",
    "standards_dir = Path('../data/reduced')\n",
    "\n",
    "# Load observations (adjust patterns to match your files)\n",
    "filter_files = {}\n",
    "for filt in filters:\n",
    "    pattern = f'*{filt}*.fits'  # Adjust pattern as needed\n",
    "    files = list_fits_files(standards_dir, pattern=pattern)\n",
    "    filter_files[filt] = files\n",
    "    print(f\"Filter {filt}: {len(files)} files\")"
   ]
  },
  {
   "cell_type": "markdown",
   "metadata": {},
   "source": [
    "## 2. Define Standard Star Catalog\n",
    "\n",
    "Create a catalog of known standard stars and their magnitudes."
   ]
  },
  {
   "cell_type": "code",
   "execution_count": null,
   "metadata": {},
   "outputs": [],
   "source": [
    "# Example: Landolt standard star data\n",
    "# Replace with actual catalog values for your field\n",
    "\n",
    "standard_catalog = pd.DataFrame({\n",
    "    'star_id': ['SA98-193', 'SA98-194', 'SA98-195'],\n",
    "    'ra': [21.0, 21.1, 21.2],  # Right Ascension (deg)\n",
    "    'dec': [0.0, 0.1, 0.2],    # Declination (deg)\n",
    "    'V_mag': [13.150, 13.560, 14.020],  # Johnson V magnitude\n",
    "    'B_mag': [13.850, 14.320, 14.880],  # Johnson B magnitude\n",
    "    'R_mag': [12.700, 13.050, 13.450],  # Cousins R magnitude\n",
    "    'x_pixel': [512.5, 612.3, 412.8],   # Approximate pixel positions\n",
    "    'y_pixel': [512.5, 612.7, 412.2]\n",
    "})\n",
    "\n",
    "# Calculate known color indices\n",
    "standard_catalog['B-V'] = standard_catalog['B_mag'] - standard_catalog['V_mag']\n",
    "standard_catalog['V-R'] = standard_catalog['V_mag'] - standard_catalog['R_mag']\n",
    "\n",
    "print(\"Standard Star Catalog:\")\n",
    "print(standard_catalog)"
   ]
  },
  {
   "cell_type": "markdown",
   "metadata": {},
   "source": [
    "## 3. Measure Instrumental Magnitudes\n",
    "\n",
    "Perform photometry on standard stars in each filter."
   ]
  },
  {
   "cell_type": "code",
   "execution_count": null,
   "metadata": {},
   "outputs": [],
   "source": [
    "# Store instrumental magnitudes\n",
    "instrumental_mags = {filt: [] for filt in filters}\n",
    "\n",
    "aperture_radius = 10  # Adjust based on seeing\n",
    "\n",
    "for filt in filters:\n",
    "    if len(filter_files[filt]) > 0:\n",
    "        # Use first file for each filter (or average multiple)\n",
    "        data, header = load_fits(filter_files[filt][0])\n",
    "        \n",
    "        # Get standard star positions\n",
    "        positions = list(zip(standard_catalog['x_pixel'], \n",
    "                           standard_catalog['y_pixel']))\n",
    "        \n",
    "        # Measure photometry\n",
    "        phot = measure_aperture_photometry(\n",
    "            data, positions, aperture_radius=aperture_radius\n",
    "        )\n",
    "        \n",
    "        instrumental_mags[filt] = phot['mag_inst']\n",
    "        \n",
    "        print(f\"\\n{filt}-band instrumental magnitudes:\")\n",
    "        for i, mag in enumerate(phot['mag_inst']):\n",
    "            print(f\"  {standard_catalog['star_id'].iloc[i]}: {mag:.3f}\")"
   ]
  },
  {
   "cell_type": "markdown",
   "metadata": {},
   "source": [
    "## 4. Calculate Zero Points\n",
    "\n",
    "Determine photometric zero points for each filter."
   ]
  },
  {
   "cell_type": "code",
   "execution_count": null,
   "metadata": {},
   "outputs": [],
   "source": [
    "zero_points = {}\n",
    "\n",
    "for filt in filters:\n",
    "    if len(instrumental_mags[filt]) > 0:\n",
    "        # Zero point: standard_mag = instrumental_mag + ZP\n",
    "        catalog_mags = standard_catalog[f'{filt}_mag'].values\n",
    "        inst_mags = instrumental_mags[filt]\n",
    "        \n",
    "        zp_values = catalog_mags - inst_mags\n",
    "        zero_point = np.mean(zp_values)\n",
    "        zero_points[filt] = zero_point\n",
    "        \n",
    "        print(f\"\\n{filt}-band zero point: {zero_point:.3f} ± {np.std(zp_values):.3f}\")\n",
    "        print(f\"Individual ZP values: {zp_values}\")"
   ]
  },
  {
   "cell_type": "markdown",
   "metadata": {},
   "source": [
    "## 5. Plot Color-Magnitude Diagram"
   ]
  },
  {
   "cell_type": "code",
   "execution_count": null,
   "metadata": {},
   "outputs": [],
   "source": [
    "# Plot B-V color vs V magnitude\n",
    "if 'B' in zero_points and 'V' in zero_points:\n",
    "    fig, ax = plt.subplots(figsize=(10, 8))\n",
    "    \n",
    "    ax.scatter(standard_catalog['B-V'], standard_catalog['V_mag'], \n",
    "              s=100, alpha=0.7, edgecolors='black', linewidths=2)\n",
    "    \n",
    "    # Label stars\n",
    "    for _, star in standard_catalog.iterrows():\n",
    "        ax.annotate(star['star_id'], \n",
    "                   (star['B-V'], star['V_mag']),\n",
    "                   xytext=(5, 5), textcoords='offset points',\n",
    "                   fontsize=10)\n",
    "    \n",
    "    ax.invert_yaxis()  # Brighter stars at top\n",
    "    ax.set_xlabel('B - V (mag)', fontsize=12)\n",
    "    ax.set_ylabel('V (mag)', fontsize=12)\n",
    "    ax.set_title('Color-Magnitude Diagram', fontsize=14)\n",
    "    ax.grid(True, alpha=0.3)\n",
    "    \n",
    "    plt.tight_layout()\n",
    "    plt.savefig('../data/color_magnitude_diagram.png', dpi=150, bbox_inches='tight')\n",
    "    plt.show()"
   ]
  },
  {
   "cell_type": "markdown",
   "metadata": {},
   "source": [
    "## 6. Calculate Color Indices"
   ]
  },
  {
   "cell_type": "code",
   "execution_count": null,
   "metadata": {},
   "outputs": [],
   "source": [
    "# Calculate instrumental color indices\n",
    "if 'B' in instrumental_mags and 'V' in instrumental_mags:\n",
    "    inst_BV = instrumental_mags['B'] - instrumental_mags['V']\n",
    "    catalog_BV = standard_catalog['B-V'].values\n",
    "    \n",
    "    # Plot instrumental vs standard colors\n",
    "    fig, ax = plt.subplots(figsize=(10, 8))\n",
    "    \n",
    "    ax.scatter(catalog_BV, inst_BV, s=100, alpha=0.7)\n",
    "    \n",
    "    # Fit linear transformation\n",
    "    coeffs = np.polyfit(catalog_BV, inst_BV, 1)\n",
    "    fit_line = np.poly1d(coeffs)\n",
    "    x_fit = np.linspace(catalog_BV.min(), catalog_BV.max(), 100)\n",
    "    ax.plot(x_fit, fit_line(x_fit), 'r--', \n",
    "           label=f'Fit: y = {coeffs[0]:.3f}x + {coeffs[1]:.3f}')\n",
    "    \n",
    "    ax.set_xlabel('Standard (B-V)', fontsize=12)\n",
    "    ax.set_ylabel('Instrumental (B-V)', fontsize=12)\n",
    "    ax.set_title('Color Transformation', fontsize=14)\n",
    "    ax.legend()\n",
    "    ax.grid(True, alpha=0.3)\n",
    "    \n",
    "    plt.tight_layout()\n",
    "    plt.savefig('../data/color_transformation.png', dpi=150, bbox_inches='tight')\n",
    "    plt.show()\n",
    "    \n",
    "    print(f\"\\nColor transformation:\")\n",
    "    print(f\"  (B-V)_inst = {coeffs[0]:.3f} × (B-V)_std + {coeffs[1]:.3f}\")"
   ]
  },
  {
   "cell_type": "markdown",
   "metadata": {},
   "source": [
    "## 7. Export Calibration Results"
   ]
  },
  {
   "cell_type": "code",
   "execution_count": null,
   "metadata": {},
   "outputs": [],
   "source": [
    "# Save zero points and transformations\n",
    "calibration_data = {\n",
    "    'filter': list(zero_points.keys()),\n",
    "    'zero_point': list(zero_points.values())\n",
    "}\n",
    "\n",
    "calib_df = pd.DataFrame(calibration_data)\n",
    "calib_df.to_csv('../data/photometric_calibration.csv', index=False)\n",
    "\n",
    "print(\"Photometric Calibration Results:\")\n",
    "print(calib_df)\n",
    "print(\"\\nSaved to ../data/photometric_calibration.csv\")"
   ]
  },
  {
   "cell_type": "markdown",
   "metadata": {},
   "source": [
    "## 8. Apply Calibration to Science Target\n",
    "\n",
    "Use the derived zero points to calibrate your science observations."
   ]
  },
  {
   "cell_type": "code",
   "execution_count": null,
   "metadata": {},
   "outputs": [],
   "source": [
    "# Example: calibrate target magnitudes\n",
    "# Replace with your actual target photometry\n",
    "\n",
    "if 'V' in zero_points:\n",
    "    # Example instrumental magnitude from your target\n",
    "    target_inst_mag_V = -15.5  # Replace with actual value\n",
    "    \n",
    "    # Apply zero point\n",
    "    target_calibrated_V = target_inst_mag_V + zero_points['V']\n",
    "    \n",
    "    print(f\"\\nTarget Calibration:\")\n",
    "    print(f\"  Instrumental V: {target_inst_mag_V:.3f}\")\n",
    "    print(f\"  Calibrated V: {target_calibrated_V:.3f}\")"
   ]
  },
  {
   "cell_type": "markdown",
   "metadata": {},
   "source": [
    "## Summary\n",
    "\n",
    "✓ Standard star photometry completed\n",
    "✓ Zero points calculated for each filter\n",
    "✓ Color transformations derived\n",
    "✓ Calibration data saved\n",
    "\n",
    "**Next Steps:**\n",
    "- Apply calibration to science targets\n",
    "- Calculate final calibrated magnitudes and colors\n",
    "- Prepare figures and tables for manuscript\n",
    "- Export to Overleaf"
   ]
  }
 ],
 "metadata": {
  "kernelnel": {
   "display_name": "Python 3",
   "language": "python",
   "name": "python3"
  },
  "language_info": {
   "codemirror_mode": {
    "name": "ipython",
    "version": 3
   },
   "file_extension": ".py",
   "mimetype": "text/x-python",
   "name": "python",
   "nbconvert_exporter": "python",
   "pygments_lexer": "ipython3",
   "version": "3.8.0"
  }
 },
 "nbformat": 4,
 "nbformat_minor": 4
}
