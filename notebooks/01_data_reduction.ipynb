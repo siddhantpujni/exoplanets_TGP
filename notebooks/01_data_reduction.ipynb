{
 "cells": [
  {
   "cell_type": "markdown",
   "metadata": {},
   "source": [
    "# Data Reduction Pipeline\n",
    "\n",
    "This notebook demonstrates the basic CCD data reduction workflow:\n",
    "1. Create master calibration frames (bias, flat)\n",
    "2. Apply calibrations to science frames\n",
    "3. Inspect results\n",
    "\n",
    "## Prerequisites\n",
    "- Raw FITS files in `../data/raw/`\n",
    "- Calibration frames in `../data/calibration/`"
   ]
  },
  {
   "cell_type": "code",
   "execution_count": null,
   "metadata": {},
   "outputs": [],
   "source": [
    "import sys\n",
    "sys.path.append('..')\n",
    "\n",
    "import numpy as np\n",
    "import matplotlib.pyplot as plt\n",
    "from pathlib import Path\n",
    "\n",
    "from src.data_reduction import (\n",
    "    load_fits,\n",
    "    create_master_bias,\n",
    "    create_master_flat,\n",
    "    reduce_science_frame,\n",
    "    batch_reduce\n",
    ")\n",
    "from src.utils import list_fits_files, plot_image\n",
    "\n",
    "%matplotlib inline\n",
    "plt.rcParams['figure.figsize'] = (12, 8)"
   ]
  },
  {
   "cell_type": "markdown",
   "metadata": {},
   "source": [
    "## 1. Define File Paths"
   ]
  },
  {
   "cell_type": "code",
   "execution_count": null,
   "metadata": {},
   "outputs": [],
   "source": [
    "# Directory paths\n",
    "data_dir = Path('../data')\n",
    "raw_dir = data_dir / 'raw'\n",
    "cal_dir = data_dir / 'calibration'\n",
    "reduced_dir = data_dir / 'reduced'\n",
    "\n",
    "# Create output directory if it doesn't exist\n",
    "reduced_dir.mkdir(exist_ok=True)\n",
    "\n",
    "print(f\"Raw data: {raw_dir}\")\n",
    "print(f\"Calibration: {cal_dir}\")\n",
    "print(f\"Reduced data: {reduced_dir}\")"
   ]
  },
  {
   "cell_type": "markdown",
   "metadata": {},
   "source": [
    "## 2. Create Master Bias Frame\n",
    "\n",
    "Bias frames capture the electronic offset of the CCD. We combine multiple bias frames using the median to reduce noise."
   ]
  },
  {
   "cell_type": "code",
   "execution_count": null,
   "metadata": {},
   "outputs": [],
   "source": [
    "# List all bias frames\n",
    "bias_files = list_fits_files(cal_dir, pattern='bias*.fits')\n",
    "print(f\"Found {len(bias_files)} bias frames\")\n",
    "\n",
    "# Create master bias if bias files exist\n",
    "if len(bias_files) > 0:\n",
    "    master_bias = create_master_bias(\n",
    "        bias_files,\n",
    "        output_path=cal_dir / 'master_bias.fits'\n",
    "    )\n",
    "    \n",
    "    # Display master bias\n",
    "    fig, axes = plt.subplots(1, 2, figsize=(14, 6))\n",
    "    plot_image(master_bias, title='Master Bias', ax=axes[0])\n",
    "    axes[1].hist(master_bias.flatten(), bins=100, alpha=0.7)\n",
    "    axes[1].set_xlabel('Counts')\n",
    "    axes[1].set_ylabel('Frequency')\n",
    "    axes[1].set_title('Bias Level Distribution')\n",
    "    plt.tight_layout()\n",
    "    plt.show()\n",
    "    \n",
    "    print(f\"Master bias statistics:\")\n",
    "    print(f\"  Mean: {np.mean(master_bias):.2f}\")\n",
    "    print(f\"  Median: {np.median(master_bias):.2f}\")\n",
    "    print(f\"  Std: {np.std(master_bias):.2f}\")\n",
    "else:\n",
    "    master_bias = None\n",
    "    print(\"No bias frames found. Proceeding without bias correction.\")"
   ]
  },
  {
   "cell_type": "markdown",
   "metadata": {},
   "source": [
    "## 3. Create Master Flat Frame\n",
    "\n",
    "Flat fields correct for pixel-to-pixel sensitivity variations and vignetting."
   ]
  },
  {
   "cell_type": "code",
   "execution_count": null,
   "metadata": {},
   "outputs": [],
   "source": [
    "# List all flat frames (adjust pattern for your filter)\n",
    "flat_files = list_fits_files(cal_dir, pattern='flat*.fits')\n",
    "print(f\"Found {len(flat_files)} flat frames\")\n",
    "\n",
    "# Create master flat if flat files exist\n",
    "if len(flat_files) > 0:\n",
    "    master_flat = create_master_flat(\n",
    "        flat_files,\n",
    "        master_bias=master_bias,\n",
    "        output_path=cal_dir / 'master_flat.fits'\n",
    "    )\n",
    "    \n",
    "    # Display master flat\n",
    "    fig, axes = plt.subplots(1, 2, figsize=(14, 6))\n",
    "    plot_image(master_flat, title='Master Flat', ax=axes[0], vmin=0.8, vmax=1.2)\n",
    "    axes[1].hist(master_flat.flatten(), bins=100, alpha=0.7)\n",
    "    axes[1].set_xlabel('Normalized Response')\n",
    "    axes[1].set_ylabel('Frequency')\n",
    "    axes[1].set_title('Flat Field Distribution')\n",
    "    axes[1].axvline(1.0, color='r', linestyle='--', label='Ideal')\n",
    "    axes[1].legend()\n",
    "    plt.tight_layout()\n",
    "    plt.show()\n",
    "    \n",
    "    print(f\"Master flat statistics:\")\n",
    "    print(f\"  Mean: {np.mean(master_flat):.4f}\")\n",
    "    print(f\"  Median: {np.median(master_flat):.4f}\")\n",
    "    print(f\"  Std: {np.std(master_flat):.4f}\")\n",
    "else:\n",
    "    master_flat = None\n",
    "    print(\"No flat frames found. Proceeding without flat fielding.\")"
   ]
  },
  {
   "cell_type": "markdown",
   "metadata": {},
   "source": [
    "## 4. Reduce Science Frames\n",
    "\n",
    "Apply bias correction and flat fielding to all science frames."
   ]
  },
  {
   "cell_type": "code",
   "execution_count": null,
   "metadata": {},
   "outputs": [],
   "source": [
    "# List science frames\n",
    "science_files = list_fits_files(raw_dir)\n",
    "print(f\"Found {len(science_files)} science frames\")\n",
    "\n",
    "# Batch reduce if files exist\n",
    "if len(science_files) > 0:\n",
    "    reduced_files = batch_reduce(\n",
    "        science_files,\n",
    "        master_bias=master_bias,\n",
    "        master_flat=master_flat,\n",
    "        output_dir=str(reduced_dir)\n",
    "    )\n",
    "    print(f\"Reduced {len(reduced_files)} frames\")\n",
    "else:\n",
    "    print(\"No science frames found in raw directory.\")"
   ]
  },
  {
   "cell_type": "markdown",
   "metadata": {},
   "source": [
    "## 5. Compare Raw vs Reduced\n",
    "\n",
    "Visual comparison of a raw and reduced frame."
   ]
  },
  {
   "cell_type": "code",
   "execution_count": null,
   "metadata": {},
   "outputs": [],
   "source": [
    "# Compare first frame if available\n",
    "if len(science_files) > 0 and len(reduced_files) > 0:\n",
    "    raw_data, _ = load_fits(science_files[0])\n",
    "    reduced_data, _ = load_fits(reduced_files[0])\n",
    "    \n",
    "    fig, axes = plt.subplots(1, 2, figsize=(16, 7))\n",
    "    plot_image(raw_data, title='Raw Frame', ax=axes[0])\n",
    "    plot_image(reduced_data, title='Reduced Frame', ax=axes[1])\n",
    "    plt.tight_layout()\n",
    "    plt.show()\n",
    "    \n",
    "    print(f\"Background levels:\")\n",
    "    print(f\"  Raw: {np.median(raw_data):.2f}\")\n",
    "    print(f\"  Reduced: {np.median(reduced_data):.2f}\")"
   ]
  },
  {
   "cell_type": "markdown",
   "metadata": {},
   "source": [
    "## Summary\n",
    "\n",
    "✓ Master calibration frames created\n",
    "✓ Science frames reduced\n",
    "✓ Output saved to `../data/reduced/`\n",
    "\n",
    "**Next Steps:**\n",
    "- Proceed to `02_light_curve_analysis.ipynb` for photometry\n",
    "- Check image quality and star detection\n",
    "- Adjust parameters if needed"
   ]
  }
 ],
 "metadata": {
  "kernelspec": {
   "display_name": "Python 3",
   "language": "python",
   "name": "python3"
  },
  "language_info": {
   "codemirror_mode": {
    "name": "ipython",
    "version": 3
   },
   "file_extension": ".py",
   "mimetype": "text/x-python",
   "name": "python",
   "nbconvert_exporter": "python",
   "pygments_lexer": "ipython3",
   "version": "3.8.0"
  }
 },
 "nbformat": 4,
 "nbformat_minor": 4
}
